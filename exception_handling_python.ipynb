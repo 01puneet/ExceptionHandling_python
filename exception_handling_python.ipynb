{
 "cells": [
  {
   "cell_type": "markdown",
   "metadata": {},
   "source": [
    "\n",
    "# Exceptions Handling in Python.\n",
    "***"
   ]
  },
  {
   "cell_type": "markdown",
   "metadata": {},
   "source": [
    "#### Error & its types\n",
    "**Error simply means something is  incorrect or an inaccurate action.**\n",
    "\n",
    "> ##### Error's are of following types:\n",
    ">   -Compile Time.</br>\n",
    ">   -Logical Error</br>\n",
    ">   -Run Time</br>"
   ]
  },
  {
   "cell_type": "code",
   "execution_count": 8,
   "metadata": {},
   "outputs": [
    {
     "ename": "SyntaxError",
     "evalue": "'(' was never closed (2190570047.py, line 6)",
     "output_type": "error",
     "traceback": [
      "\u001b[0;36m  Cell \u001b[0;32mIn[8], line 6\u001b[0;36m\u001b[0m\n\u001b[0;31m    print(a+b # syntax error- forgot to close pranthesis.\u001b[0m\n\u001b[0m         ^\u001b[0m\n\u001b[0;31mSyntaxError\u001b[0m\u001b[0;31m:\u001b[0m '(' was never closed\n"
     ]
    }
   ],
   "source": [
    "#Compile Time- It's Syntax error & is generated at the time of compilation.\n",
    "#it's easy to find.\n",
    "#example-\n",
    "def fun():\n",
    "    a,b=2,3\n",
    "    print(a+b # syntax error- forgot to close pranthesis.\n",
    "fun()"
   ]
  },
  {
   "cell_type": "code",
   "execution_count": null,
   "metadata": {},
   "outputs": [],
   "source": [
    "#logical error-code works but not desired output.\n",
    "#example-\n",
    "def fun():\n",
    "    a=3\n",
    "    if a>5: #logical error in the statement.\n",
    "        print(\"a is less than 5\")\n",
    "#on executing the code snippet there will be no error but we are also not getting  desired output.\n",
    "#instead of using greater than sign we need to use less than."
   ]
  },
  {
   "cell_type": "code",
   "execution_count": 11,
   "metadata": {},
   "outputs": [
    {
     "name": "stdout",
     "output_type": "stream",
     "text": [
      "0.6666666666666666\n"
     ]
    },
    {
     "ename": "ZeroDivisionError",
     "evalue": "division by zero",
     "output_type": "error",
     "traceback": [
      "\u001b[0;31m---------------------------------------------------------------------------\u001b[0m",
      "\u001b[0;31mZeroDivisionError\u001b[0m                         Traceback (most recent call last)",
      "Cell \u001b[0;32mIn[11], line 9\u001b[0m\n\u001b[1;32m      7\u001b[0m \u001b[38;5;66;03m#if y=0 then ?\u001b[39;00m\n\u001b[1;32m      8\u001b[0m y\u001b[38;5;241m=\u001b[39m\u001b[38;5;241m0\u001b[39m\n\u001b[0;32m----> 9\u001b[0m \u001b[38;5;28mprint\u001b[39m(\u001b[43mx\u001b[49m\u001b[38;5;241;43m/\u001b[39;49m\u001b[43my\u001b[49m)\n\u001b[1;32m     10\u001b[0m \u001b[38;5;66;03m#here if denominator is 0 it will raise error. Now this is a special case where it raises error.\u001b[39;00m\n\u001b[1;32m     11\u001b[0m \u001b[38;5;66;03m# And will work for all other numbers.\u001b[39;00m\n",
      "\u001b[0;31mZeroDivisionError\u001b[0m: division by zero"
     ]
    }
   ],
   "source": [
    "#Runtime error- this error generates when a condition fails for specific cases.\n",
    "#Code gets compiled but fails for specific cases.\n",
    "#example- division by zero- this case is specific & will fail in case if denominator is 0 only.\n",
    "x=2\n",
    "y=3\n",
    "print(x/y)\n",
    "#if y=0 then ?\n",
    "y=0\n",
    "print(x/y)\n",
    "#here if denominator is 0 it will raise error. Now this is a special case where it raises error.\n",
    "# And will work for all other numbers."
   ]
  },
  {
   "cell_type": "markdown",
   "metadata": {},
   "source": [
    "\n",
    "### Exception \n",
    "***\n",
    "> *In exception code is syntactically correct but still something is wrong (exception occurs) while executing the code.</br>*\n",
    "> *Exception is an object that describes error.</br>*\n",
    "> *Assume Exception a bucket in which all sort of errors are present(syntactic to attribute).* \n",
    "\n",
    "#### Exception types\n",
    "**Some of the exceptions are explained below:**\n",
    "> - Name Error</br>\n",
    "> - Syntax Error</br>\n",
    "> - Type Error</br>\n",
    "> - Index Error</br>\n",
    "> - Key Error</br>\n",
    "> - Value Error</br>\n",
    "> - Attribute Error</br>\n",
    ">\n",
    "> *All the errors are derived from class Exception which acts as Base class.*"
   ]
  },
  {
   "cell_type": "markdown",
   "metadata": {},
   "source": [
    "### Catch & Handle Exceptions\n",
    "***\n",
    "*To do so we use the try(catch) & except(handle) block.*\n",
    "\n",
    "> try:\n",
    ">\n",
    ">         contains code where error may occur.\n",
    "> except:\n",
    ">\n",
    ">         handles exceptions."
   ]
  },
  {
   "cell_type": "markdown",
   "metadata": {},
   "source": [
    "##### Name Error\n",
    "\n",
    "  ###### this exception is raised when a variable name or function name doesn't  exist in scope."
   ]
  },
  {
   "cell_type": "code",
   "execution_count": 25,
   "metadata": {},
   "outputs": [
    {
     "name": "stdout",
     "output_type": "stream",
     "text": [
      "name 'var' is not defined <class 'NameError'>\n"
     ]
    }
   ],
   "source": [
    "def fun():\n",
    "    #var= 2 #remove j from comment to execute try block.\n",
    "    try:\n",
    "        print(var)# this statement will execute only if j is present in block\n",
    "    except Exception as e:\n",
    "        print(e,type(e))#this statement will execute only if there is exception in try\n",
    "fun()#function call"
   ]
  },
  {
   "cell_type": "markdown",
   "metadata": {},
   "source": [
    "###### **Syntax error**\n",
    " ###### -includes any syntactical mistake."
   ]
  },
  {
   "cell_type": "code",
   "execution_count": 23,
   "metadata": {},
   "outputs": [
    {
     "name": "stdout",
     "output_type": "stream",
     "text": [
      "name 'z8' is not defined <class 'NameError'>\n"
     ]
    }
   ],
   "source": [
    "\n",
    "try:\n",
    "    z8 #assignment operator missing\n",
    "    print(z) #z not found \n",
    "except Exception as e:\n",
    "    print(e,type(e))"
   ]
  },
  {
   "cell_type": "markdown",
   "metadata": {},
   "source": [
    "###### **Type Error**\n",
    "###### - This exception is raised when an operation or function is applied to an object of the wrong type."
   ]
  },
  {
   "cell_type": "code",
   "execution_count": 22,
   "metadata": {},
   "outputs": [
    {
     "name": "stdout",
     "output_type": "stream",
     "text": [
      "unsupported operand type(s) for -: 'int' and 'str' <class 'TypeError'>\n"
     ]
    }
   ],
   "source": [
    "i=88\n",
    "j='99'\n",
    "try:\n",
    "   print(i-j)# error as one operand is int & other string\n",
    "except Exception as e:\n",
    "    print(e,type(e))"
   ]
  },
  {
   "cell_type": "markdown",
   "metadata": {},
   "source": [
    "###### **value error** \n",
    "###### -occurs when we convert string to integer."
   ]
  },
  {
   "cell_type": "code",
   "execution_count": 21,
   "metadata": {},
   "outputs": [
    {
     "name": "stdout",
     "output_type": "stream",
     "text": [
      "invalid literal for int() with base 10: 'jerry' <class 'ValueError'>\n"
     ]
    }
   ],
   "source": [
    "name=\"jerry\"\n",
    "try:\n",
    "    print(int(name))#typecasting string to integer\n",
    "except Exception as e:\n",
    "    print(e,type(e))"
   ]
  },
  {
   "cell_type": "markdown",
   "metadata": {},
   "source": [
    "###### **Attribute Error**\n",
    "###### -when method/attribute is not found"
   ]
  },
  {
   "cell_type": "code",
   "execution_count": 27,
   "metadata": {},
   "outputs": [
    {
     "name": "stdout",
     "output_type": "stream",
     "text": [
      "'list' object has no attribute 'find' <class 'AttributeError'>\n"
     ]
    }
   ],
   "source": [
    "l=[1,2,3]\n",
    "try:\n",
    "    print(l.find(2))#find is a method of string not of list, so will throw error.\n",
    "except Exception as e:\n",
    "    print(e,type(e))"
   ]
  },
  {
   "cell_type": "markdown",
   "metadata": {},
   "source": [
    "###### **Index Error**\n",
    "###### -occurs when index is out of bound.\n",
    "###### -example: if we want to access 3rd index in list but list has only two elements."
   ]
  },
  {
   "cell_type": "code",
   "execution_count": 30,
   "metadata": {},
   "outputs": [
    {
     "name": "stdout",
     "output_type": "stream",
     "text": [
      "porsche\n",
      "Rolls Royce\n",
      "list index out of range <class 'IndexError'>\n"
     ]
    }
   ],
   "source": [
    "car=[\"porsche\",\"Rolls Royce\"]\n",
    "try:\n",
    "    for i in range(0,3):\n",
    "        print(car[i]) #will print \"porsche\",\"Rolls Royce\" & then error\n",
    "except Exception as e:\n",
    "    print(e,type(e))# executes when index is 3"
   ]
  },
  {
   "cell_type": "code",
   "execution_count": 31,
   "metadata": {},
   "outputs": [
    {
     "name": "stdout",
     "output_type": "stream",
     "text": [
      "'berry' <class 'KeyError'>\n"
     ]
    }
   ],
   "source": [
    "d={'jerry':1,\n",
    "    \"tom\":2\n",
    "}\n",
    "try:\n",
    "    print(d[\"berry\"])\n",
    "except Exception as e:\n",
    "    print(e, type(e))\n"
   ]
  },
  {
   "cell_type": "markdown",
   "metadata": {},
   "source": [
    "> #### Finally\n",
    "> **** \n",
    "> - finally:- a block in exception handling which will definitely execute.</br>\n",
    "> - Doesn't bother about the result of try & except.</h6>"
   ]
  },
  {
   "cell_type": "code",
   "execution_count": 34,
   "metadata": {},
   "outputs": [
    {
     "name": "stdout",
     "output_type": "stream",
     "text": [
      "num is odd\n",
      "It executes no matter what is output of try & except\n"
     ]
    }
   ],
   "source": [
    "#num=input(\"Enter number-\")\n",
    "num=3\n",
    "try:\n",
    "    if num % 2==0:\n",
    "        print(\"num is even\")\n",
    "    else:\n",
    "        print(\"num is odd\")\n",
    "except Exception as e:\n",
    "    print(e,type(e))\n",
    "finally:\n",
    "    print(\"It executes no matter what is output of try & except\")"
   ]
  },
  {
   "cell_type": "markdown",
   "metadata": {},
   "source": [
    "#### Raise\n",
    "***\n",
    "- Keyword used to raise an error with userdefined statement</h6>"
   ]
  },
  {
   "cell_type": "code",
   "execution_count": 39,
   "metadata": {},
   "outputs": [
    {
     "ename": "Exception",
     "evalue": "Will not add numbers if less than 5",
     "output_type": "error",
     "traceback": [
      "\u001b[0;31m---------------------------------------------------------------------------\u001b[0m",
      "\u001b[0;31mException\u001b[0m                                 Traceback (most recent call last)",
      "Cell \u001b[0;32mIn[39], line 8\u001b[0m\n\u001b[1;32m      6\u001b[0m     \u001b[38;5;28;01melse\u001b[39;00m:\n\u001b[1;32m      7\u001b[0m         \u001b[38;5;28mprint\u001b[39m(a\u001b[38;5;241m+\u001b[39mb)\n\u001b[0;32m----> 8\u001b[0m \u001b[38;5;28;43msum\u001b[39;49m\u001b[43m(\u001b[49m\u001b[43m)\u001b[49m\n",
      "Cell \u001b[0;32mIn[39], line 5\u001b[0m, in \u001b[0;36msum\u001b[0;34m()\u001b[0m\n\u001b[1;32m      3\u001b[0m a,b\u001b[38;5;241m=\u001b[39m\u001b[38;5;241m2\u001b[39m,\u001b[38;5;241m3\u001b[39m\n\u001b[1;32m      4\u001b[0m \u001b[38;5;28;01mif\u001b[39;00m a \u001b[38;5;241m<\u001b[39m \u001b[38;5;241m5\u001b[39m \u001b[38;5;129;01mand\u001b[39;00m b\u001b[38;5;241m<\u001b[39m\u001b[38;5;241m5\u001b[39m:\n\u001b[0;32m----> 5\u001b[0m     \u001b[38;5;28;01mraise\u001b[39;00m \u001b[38;5;167;01mException\u001b[39;00m(\u001b[38;5;124m\"\u001b[39m\u001b[38;5;124mWill not add numbers if less than 5\u001b[39m\u001b[38;5;124m\"\u001b[39m)\n\u001b[1;32m      6\u001b[0m \u001b[38;5;28;01melse\u001b[39;00m:\n\u001b[1;32m      7\u001b[0m     \u001b[38;5;28mprint\u001b[39m(a\u001b[38;5;241m+\u001b[39mb)\n",
      "\u001b[0;31mException\u001b[0m: Will not add numbers if less than 5"
     ]
    }
   ],
   "source": [
    "def sum():\n",
    "    #a,b=6,8\n",
    "    a,b=2,3\n",
    "    if a < 5 and b<5:\n",
    "        raise Exception(\"Will not add numbers if less than 5\")\n",
    "    else:\n",
    "        print(a+b)\n",
    "sum()"
   ]
  },
  {
   "cell_type": "markdown",
   "metadata": {},
   "source": [
    "#### Multiple Excepts\n",
    "***\n",
    "- *Multiple excepts are used to handle multiple cases of exceptions.*"
   ]
  },
  {
   "cell_type": "code",
   "execution_count": 42,
   "metadata": {},
   "outputs": [
    {
     "name": "stdout",
     "output_type": "stream",
     "text": [
      "division by zero <class 'ZeroDivisionError'>\n",
      "Here we are handling specific errors using multiple excepts.\n"
     ]
    }
   ],
   "source": [
    "num1=2\n",
    "num2=0\n",
    "try:\n",
    "    print(num1/num2)\n",
    "except ZeroDivisionError as e:\n",
    "    print(e, type(e))#this except deals with only zeroDivisionError\n",
    "except ValueError as e:\n",
    "    print(e,type(e))\n",
    "finally:\n",
    "    print(\"Here we are handling specific errors using multiple excepts.\")"
   ]
  },
  {
   "cell_type": "markdown",
   "metadata": {},
   "source": [
    "### try else Block\n",
    "***\n",
    "try:    \n",
    "    \n",
    "       code where error may occur.\n",
    "except:\n",
    "    \n",
    "       handles exception if occurs.\n",
    "else:\n",
    "    \n",
    "       executes if try successfully executes\n",
    "       can display any info here or perform any action\n",
    "       will not execute if execption arises."
   ]
  },
  {
   "cell_type": "code",
   "execution_count": 46,
   "metadata": {},
   "outputs": [
    {
     "name": "stdout",
     "output_type": "stream",
     "text": [
      "4 else block will execute only if except is not executing.\n"
     ]
    }
   ],
   "source": [
    "try:\n",
    "    n=2\n",
    "    d=2\n",
    "except Exception as e:\n",
    "    print(e,type(e))\n",
    "else:\n",
    "    print(n*d, \"else block will execute only if except is not executing.\")"
   ]
  },
  {
   "cell_type": "markdown",
   "metadata": {},
   "source": [
    "#### try else Finally:\n",
    "***     \n",
    "        here it acts same as try else but finally block will always execute.\n",
    "     "
   ]
  },
  {
   "cell_type": "code",
   "execution_count": 47,
   "metadata": {},
   "outputs": [
    {
     "name": "stdout",
     "output_type": "stream",
     "text": [
      "name 'd2' is not defined <class 'NameError'>\n",
      "End of Execution\n"
     ]
    }
   ],
   "source": [
    "try:\n",
    "    n=2\n",
    "    d2\n",
    "except Exception as e:\n",
    "    print(e,type(e))\n",
    "else:\n",
    "    print(n*d, \"else block will execute only if except is not executing.\")\n",
    "finally:\n",
    "    print(\"End of Execution\")"
   ]
  },
  {
   "cell_type": "markdown",
   "metadata": {},
   "source": [
    "####  Creating Custom Exception Class.\n",
    "***\n",
    "       we can create our own custom exception class by inheriting From Exception class."
   ]
  },
  {
   "cell_type": "code",
   "execution_count": 53,
   "metadata": {},
   "outputs": [
    {
     "name": "stdout",
     "output_type": "stream",
     "text": [
      "<class '__main__.NumberAsString'> You need to typecast number from string to integer.\n"
     ]
    }
   ],
   "source": [
    "class NumberAsString(Exception): #inheriting from Exception class.\n",
    "    pass\n",
    "\n",
    "try:\n",
    "    number=input(\"Enter your number-\")\n",
    "    if type(number) is not str:\n",
    "        print(number)\n",
    "    else:\n",
    "        raise NumberAsString\n",
    "except NumberAsString as e:\n",
    "    print(type(e),\"You need to typecast number from string to integer.\")"
   ]
  },
  {
   "cell_type": "markdown",
   "metadata": {},
   "source": [
    "##### Created By\n",
    "****\n",
    "> <footer>\n",
    ">     <h6>CopyRight: Puneet Parsad Singh </h6>\n",
    ">      <h6>Mail: <a href=\"mailto:puneets1219@gmail.com\"> puneets1219@gmail.com </a></h6>\n",
    ">      <h6>Linkedin:<a href=\"https://www.linkedin.com/in/sardarpuneetparsadsingh/\"> Sardar Puneet Parsad Singh</a> </h6>\n",
    ">  </footer>\n"
   ]
  }
 ],
 "metadata": {
  "interpreter": {
   "hash": "31f2aee4e71d21fbe5cf8b01ff0e069b9275f58929596ceb00d14d90e3e16cd6"
  },
  "kernelspec": {
   "display_name": "Python 3.10.6 64-bit",
   "language": "python",
   "name": "python3"
  },
  "language_info": {
   "codemirror_mode": {
    "name": "ipython",
    "version": 3
   },
   "file_extension": ".py",
   "mimetype": "text/x-python",
   "name": "python",
   "nbconvert_exporter": "python",
   "pygments_lexer": "ipython3",
   "version": "3.10.6"
  },
  "orig_nbformat": 4
 },
 "nbformat": 4,
 "nbformat_minor": 2
}
